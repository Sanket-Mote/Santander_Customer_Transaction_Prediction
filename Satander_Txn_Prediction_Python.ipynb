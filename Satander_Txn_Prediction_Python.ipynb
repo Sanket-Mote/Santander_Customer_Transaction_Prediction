{
 "cells": [
  {
   "cell_type": "code",
   "execution_count": 1,
   "metadata": {},
   "outputs": [],
   "source": [
    "# Importing required libraries\n",
    "import os\n",
    "import numpy as np\n",
    "import pandas as pd\n",
    "import matplotlib as mlt\n",
    "import seaborn as sns\n",
    "import matplotlib.pyplot as plt\n",
    "%matplotlib inline\n",
    "from random import randrange, uniform\n",
    "import statsmodels.api as sm\n",
    "from sklearn.ensemble import RandomForestClassifier\n",
    "from sklearn.model_selection import train_test_split"
   ]
  },
  {
   "cell_type": "code",
   "execution_count": 2,
   "metadata": {},
   "outputs": [],
   "source": [
    "# changing working directory\n",
    "os.chdir(\"D:\\Edwisor Data Science\\Final Project 2 Submission\")"
   ]
  },
  {
   "cell_type": "code",
   "execution_count": 3,
   "metadata": {},
   "outputs": [
    {
     "data": {
      "text/plain": [
       "'D:\\\\Edwisor Data Science\\\\Final Project 2 Submission'"
      ]
     },
     "execution_count": 3,
     "metadata": {},
     "output_type": "execute_result"
    }
   ],
   "source": [
    "# verifying directory\n",
    "os.getcwd()"
   ]
  },
  {
   "cell_type": "code",
   "execution_count": 4,
   "metadata": {},
   "outputs": [],
   "source": [
    "# importing the train dataset\n",
    "df_train = pd.read_csv(\"train.csv\")"
   ]
  },
  {
   "cell_type": "code",
   "execution_count": 5,
   "metadata": {},
   "outputs": [
    {
     "data": {
      "text/html": [
       "<div>\n",
       "<style scoped>\n",
       "    .dataframe tbody tr th:only-of-type {\n",
       "        vertical-align: middle;\n",
       "    }\n",
       "\n",
       "    .dataframe tbody tr th {\n",
       "        vertical-align: top;\n",
       "    }\n",
       "\n",
       "    .dataframe thead th {\n",
       "        text-align: right;\n",
       "    }\n",
       "</style>\n",
       "<table border=\"1\" class=\"dataframe\">\n",
       "  <thead>\n",
       "    <tr style=\"text-align: right;\">\n",
       "      <th></th>\n",
       "      <th>ID_code</th>\n",
       "      <th>target</th>\n",
       "      <th>var_0</th>\n",
       "      <th>var_1</th>\n",
       "      <th>var_2</th>\n",
       "      <th>var_3</th>\n",
       "      <th>var_4</th>\n",
       "      <th>var_5</th>\n",
       "      <th>var_6</th>\n",
       "      <th>var_7</th>\n",
       "      <th>...</th>\n",
       "      <th>var_190</th>\n",
       "      <th>var_191</th>\n",
       "      <th>var_192</th>\n",
       "      <th>var_193</th>\n",
       "      <th>var_194</th>\n",
       "      <th>var_195</th>\n",
       "      <th>var_196</th>\n",
       "      <th>var_197</th>\n",
       "      <th>var_198</th>\n",
       "      <th>var_199</th>\n",
       "    </tr>\n",
       "  </thead>\n",
       "  <tbody>\n",
       "    <tr>\n",
       "      <td>0</td>\n",
       "      <td>train_0</td>\n",
       "      <td>0</td>\n",
       "      <td>8.9255</td>\n",
       "      <td>-6.7863</td>\n",
       "      <td>11.9081</td>\n",
       "      <td>5.0930</td>\n",
       "      <td>11.4607</td>\n",
       "      <td>-9.2834</td>\n",
       "      <td>5.1187</td>\n",
       "      <td>18.6266</td>\n",
       "      <td>...</td>\n",
       "      <td>4.4354</td>\n",
       "      <td>3.9642</td>\n",
       "      <td>3.1364</td>\n",
       "      <td>1.6910</td>\n",
       "      <td>18.5227</td>\n",
       "      <td>-2.3978</td>\n",
       "      <td>7.8784</td>\n",
       "      <td>8.5635</td>\n",
       "      <td>12.7803</td>\n",
       "      <td>-1.0914</td>\n",
       "    </tr>\n",
       "    <tr>\n",
       "      <td>1</td>\n",
       "      <td>train_1</td>\n",
       "      <td>0</td>\n",
       "      <td>11.5006</td>\n",
       "      <td>-4.1473</td>\n",
       "      <td>13.8588</td>\n",
       "      <td>5.3890</td>\n",
       "      <td>12.3622</td>\n",
       "      <td>7.0433</td>\n",
       "      <td>5.6208</td>\n",
       "      <td>16.5338</td>\n",
       "      <td>...</td>\n",
       "      <td>7.6421</td>\n",
       "      <td>7.7214</td>\n",
       "      <td>2.5837</td>\n",
       "      <td>10.9516</td>\n",
       "      <td>15.4305</td>\n",
       "      <td>2.0339</td>\n",
       "      <td>8.1267</td>\n",
       "      <td>8.7889</td>\n",
       "      <td>18.3560</td>\n",
       "      <td>1.9518</td>\n",
       "    </tr>\n",
       "    <tr>\n",
       "      <td>2</td>\n",
       "      <td>train_2</td>\n",
       "      <td>0</td>\n",
       "      <td>8.6093</td>\n",
       "      <td>-2.7457</td>\n",
       "      <td>12.0805</td>\n",
       "      <td>7.8928</td>\n",
       "      <td>10.5825</td>\n",
       "      <td>-9.0837</td>\n",
       "      <td>6.9427</td>\n",
       "      <td>14.6155</td>\n",
       "      <td>...</td>\n",
       "      <td>2.9057</td>\n",
       "      <td>9.7905</td>\n",
       "      <td>1.6704</td>\n",
       "      <td>1.6858</td>\n",
       "      <td>21.6042</td>\n",
       "      <td>3.1417</td>\n",
       "      <td>-6.5213</td>\n",
       "      <td>8.2675</td>\n",
       "      <td>14.7222</td>\n",
       "      <td>0.3965</td>\n",
       "    </tr>\n",
       "    <tr>\n",
       "      <td>3</td>\n",
       "      <td>train_3</td>\n",
       "      <td>0</td>\n",
       "      <td>11.0604</td>\n",
       "      <td>-2.1518</td>\n",
       "      <td>8.9522</td>\n",
       "      <td>7.1957</td>\n",
       "      <td>12.5846</td>\n",
       "      <td>-1.8361</td>\n",
       "      <td>5.8428</td>\n",
       "      <td>14.9250</td>\n",
       "      <td>...</td>\n",
       "      <td>4.4666</td>\n",
       "      <td>4.7433</td>\n",
       "      <td>0.7178</td>\n",
       "      <td>1.4214</td>\n",
       "      <td>23.0347</td>\n",
       "      <td>-1.2706</td>\n",
       "      <td>-2.9275</td>\n",
       "      <td>10.2922</td>\n",
       "      <td>17.9697</td>\n",
       "      <td>-8.9996</td>\n",
       "    </tr>\n",
       "    <tr>\n",
       "      <td>4</td>\n",
       "      <td>train_4</td>\n",
       "      <td>0</td>\n",
       "      <td>9.8369</td>\n",
       "      <td>-1.4834</td>\n",
       "      <td>12.8746</td>\n",
       "      <td>6.6375</td>\n",
       "      <td>12.2772</td>\n",
       "      <td>2.4486</td>\n",
       "      <td>5.9405</td>\n",
       "      <td>19.2514</td>\n",
       "      <td>...</td>\n",
       "      <td>-1.4905</td>\n",
       "      <td>9.5214</td>\n",
       "      <td>-0.1508</td>\n",
       "      <td>9.1942</td>\n",
       "      <td>13.2876</td>\n",
       "      <td>-1.5121</td>\n",
       "      <td>3.9267</td>\n",
       "      <td>9.5031</td>\n",
       "      <td>17.9974</td>\n",
       "      <td>-8.8104</td>\n",
       "    </tr>\n",
       "  </tbody>\n",
       "</table>\n",
       "<p>5 rows × 202 columns</p>\n",
       "</div>"
      ],
      "text/plain": [
       "   ID_code  target    var_0   var_1    var_2   var_3    var_4   var_5   var_6  \\\n",
       "0  train_0       0   8.9255 -6.7863  11.9081  5.0930  11.4607 -9.2834  5.1187   \n",
       "1  train_1       0  11.5006 -4.1473  13.8588  5.3890  12.3622  7.0433  5.6208   \n",
       "2  train_2       0   8.6093 -2.7457  12.0805  7.8928  10.5825 -9.0837  6.9427   \n",
       "3  train_3       0  11.0604 -2.1518   8.9522  7.1957  12.5846 -1.8361  5.8428   \n",
       "4  train_4       0   9.8369 -1.4834  12.8746  6.6375  12.2772  2.4486  5.9405   \n",
       "\n",
       "     var_7  ...  var_190  var_191  var_192  var_193  var_194  var_195  \\\n",
       "0  18.6266  ...   4.4354   3.9642   3.1364   1.6910  18.5227  -2.3978   \n",
       "1  16.5338  ...   7.6421   7.7214   2.5837  10.9516  15.4305   2.0339   \n",
       "2  14.6155  ...   2.9057   9.7905   1.6704   1.6858  21.6042   3.1417   \n",
       "3  14.9250  ...   4.4666   4.7433   0.7178   1.4214  23.0347  -1.2706   \n",
       "4  19.2514  ...  -1.4905   9.5214  -0.1508   9.1942  13.2876  -1.5121   \n",
       "\n",
       "   var_196  var_197  var_198  var_199  \n",
       "0   7.8784   8.5635  12.7803  -1.0914  \n",
       "1   8.1267   8.7889  18.3560   1.9518  \n",
       "2  -6.5213   8.2675  14.7222   0.3965  \n",
       "3  -2.9275  10.2922  17.9697  -8.9996  \n",
       "4   3.9267   9.5031  17.9974  -8.8104  \n",
       "\n",
       "[5 rows x 202 columns]"
      ]
     },
     "execution_count": 5,
     "metadata": {},
     "output_type": "execute_result"
    }
   ],
   "source": [
    "# getting overview of data\n",
    "df_train.head()"
   ]
  },
  {
   "cell_type": "code",
   "execution_count": 6,
   "metadata": {},
   "outputs": [
    {
     "data": {
      "text/plain": [
       "(200000, 202)"
      ]
     },
     "execution_count": 6,
     "metadata": {},
     "output_type": "execute_result"
    }
   ],
   "source": [
    "# checking no of rows and columns\n",
    "df_train.shape"
   ]
  },
  {
   "cell_type": "code",
   "execution_count": 5,
   "metadata": {},
   "outputs": [],
   "source": [
    "# importing the test dataset\n",
    "df_test = pd.read_csv(\"test.csv\")"
   ]
  },
  {
   "cell_type": "code",
   "execution_count": 8,
   "metadata": {},
   "outputs": [
    {
     "data": {
      "text/html": [
       "<div>\n",
       "<style scoped>\n",
       "    .dataframe tbody tr th:only-of-type {\n",
       "        vertical-align: middle;\n",
       "    }\n",
       "\n",
       "    .dataframe tbody tr th {\n",
       "        vertical-align: top;\n",
       "    }\n",
       "\n",
       "    .dataframe thead th {\n",
       "        text-align: right;\n",
       "    }\n",
       "</style>\n",
       "<table border=\"1\" class=\"dataframe\">\n",
       "  <thead>\n",
       "    <tr style=\"text-align: right;\">\n",
       "      <th></th>\n",
       "      <th>ID_code</th>\n",
       "      <th>var_0</th>\n",
       "      <th>var_1</th>\n",
       "      <th>var_2</th>\n",
       "      <th>var_3</th>\n",
       "      <th>var_4</th>\n",
       "      <th>var_5</th>\n",
       "      <th>var_6</th>\n",
       "      <th>var_7</th>\n",
       "      <th>var_8</th>\n",
       "      <th>...</th>\n",
       "      <th>var_190</th>\n",
       "      <th>var_191</th>\n",
       "      <th>var_192</th>\n",
       "      <th>var_193</th>\n",
       "      <th>var_194</th>\n",
       "      <th>var_195</th>\n",
       "      <th>var_196</th>\n",
       "      <th>var_197</th>\n",
       "      <th>var_198</th>\n",
       "      <th>var_199</th>\n",
       "    </tr>\n",
       "  </thead>\n",
       "  <tbody>\n",
       "    <tr>\n",
       "      <td>0</td>\n",
       "      <td>test_0</td>\n",
       "      <td>11.0656</td>\n",
       "      <td>7.7798</td>\n",
       "      <td>12.9536</td>\n",
       "      <td>9.4292</td>\n",
       "      <td>11.4327</td>\n",
       "      <td>-2.3805</td>\n",
       "      <td>5.8493</td>\n",
       "      <td>18.2675</td>\n",
       "      <td>2.1337</td>\n",
       "      <td>...</td>\n",
       "      <td>-2.1556</td>\n",
       "      <td>11.8495</td>\n",
       "      <td>-1.4300</td>\n",
       "      <td>2.4508</td>\n",
       "      <td>13.7112</td>\n",
       "      <td>2.4669</td>\n",
       "      <td>4.3654</td>\n",
       "      <td>10.7200</td>\n",
       "      <td>15.4722</td>\n",
       "      <td>-8.7197</td>\n",
       "    </tr>\n",
       "    <tr>\n",
       "      <td>1</td>\n",
       "      <td>test_1</td>\n",
       "      <td>8.5304</td>\n",
       "      <td>1.2543</td>\n",
       "      <td>11.3047</td>\n",
       "      <td>5.1858</td>\n",
       "      <td>9.1974</td>\n",
       "      <td>-4.0117</td>\n",
       "      <td>6.0196</td>\n",
       "      <td>18.6316</td>\n",
       "      <td>-4.4131</td>\n",
       "      <td>...</td>\n",
       "      <td>10.6165</td>\n",
       "      <td>8.8349</td>\n",
       "      <td>0.9403</td>\n",
       "      <td>10.1282</td>\n",
       "      <td>15.5765</td>\n",
       "      <td>0.4773</td>\n",
       "      <td>-1.4852</td>\n",
       "      <td>9.8714</td>\n",
       "      <td>19.1293</td>\n",
       "      <td>-20.9760</td>\n",
       "    </tr>\n",
       "    <tr>\n",
       "      <td>2</td>\n",
       "      <td>test_2</td>\n",
       "      <td>5.4827</td>\n",
       "      <td>-10.3581</td>\n",
       "      <td>10.1407</td>\n",
       "      <td>7.0479</td>\n",
       "      <td>10.2628</td>\n",
       "      <td>9.8052</td>\n",
       "      <td>4.8950</td>\n",
       "      <td>20.2537</td>\n",
       "      <td>1.5233</td>\n",
       "      <td>...</td>\n",
       "      <td>-0.7484</td>\n",
       "      <td>10.9935</td>\n",
       "      <td>1.9803</td>\n",
       "      <td>2.1800</td>\n",
       "      <td>12.9813</td>\n",
       "      <td>2.1281</td>\n",
       "      <td>-7.1086</td>\n",
       "      <td>7.0618</td>\n",
       "      <td>19.8956</td>\n",
       "      <td>-23.1794</td>\n",
       "    </tr>\n",
       "    <tr>\n",
       "      <td>3</td>\n",
       "      <td>test_3</td>\n",
       "      <td>8.5374</td>\n",
       "      <td>-1.3222</td>\n",
       "      <td>12.0220</td>\n",
       "      <td>6.5749</td>\n",
       "      <td>8.8458</td>\n",
       "      <td>3.1744</td>\n",
       "      <td>4.9397</td>\n",
       "      <td>20.5660</td>\n",
       "      <td>3.3755</td>\n",
       "      <td>...</td>\n",
       "      <td>9.5702</td>\n",
       "      <td>9.0766</td>\n",
       "      <td>1.6580</td>\n",
       "      <td>3.5813</td>\n",
       "      <td>15.1874</td>\n",
       "      <td>3.1656</td>\n",
       "      <td>3.9567</td>\n",
       "      <td>9.2295</td>\n",
       "      <td>13.0168</td>\n",
       "      <td>-4.2108</td>\n",
       "    </tr>\n",
       "    <tr>\n",
       "      <td>4</td>\n",
       "      <td>test_4</td>\n",
       "      <td>11.7058</td>\n",
       "      <td>-0.1327</td>\n",
       "      <td>14.1295</td>\n",
       "      <td>7.7506</td>\n",
       "      <td>9.1035</td>\n",
       "      <td>-8.5848</td>\n",
       "      <td>6.8595</td>\n",
       "      <td>10.6048</td>\n",
       "      <td>2.9890</td>\n",
       "      <td>...</td>\n",
       "      <td>4.2259</td>\n",
       "      <td>9.1723</td>\n",
       "      <td>1.2835</td>\n",
       "      <td>3.3778</td>\n",
       "      <td>19.5542</td>\n",
       "      <td>-0.2860</td>\n",
       "      <td>-5.1612</td>\n",
       "      <td>7.2882</td>\n",
       "      <td>13.9260</td>\n",
       "      <td>-9.1846</td>\n",
       "    </tr>\n",
       "  </tbody>\n",
       "</table>\n",
       "<p>5 rows × 201 columns</p>\n",
       "</div>"
      ],
      "text/plain": [
       "  ID_code    var_0    var_1    var_2   var_3    var_4   var_5   var_6  \\\n",
       "0  test_0  11.0656   7.7798  12.9536  9.4292  11.4327 -2.3805  5.8493   \n",
       "1  test_1   8.5304   1.2543  11.3047  5.1858   9.1974 -4.0117  6.0196   \n",
       "2  test_2   5.4827 -10.3581  10.1407  7.0479  10.2628  9.8052  4.8950   \n",
       "3  test_3   8.5374  -1.3222  12.0220  6.5749   8.8458  3.1744  4.9397   \n",
       "4  test_4  11.7058  -0.1327  14.1295  7.7506   9.1035 -8.5848  6.8595   \n",
       "\n",
       "     var_7   var_8  ...  var_190  var_191  var_192  var_193  var_194  var_195  \\\n",
       "0  18.2675  2.1337  ...  -2.1556  11.8495  -1.4300   2.4508  13.7112   2.4669   \n",
       "1  18.6316 -4.4131  ...  10.6165   8.8349   0.9403  10.1282  15.5765   0.4773   \n",
       "2  20.2537  1.5233  ...  -0.7484  10.9935   1.9803   2.1800  12.9813   2.1281   \n",
       "3  20.5660  3.3755  ...   9.5702   9.0766   1.6580   3.5813  15.1874   3.1656   \n",
       "4  10.6048  2.9890  ...   4.2259   9.1723   1.2835   3.3778  19.5542  -0.2860   \n",
       "\n",
       "   var_196  var_197  var_198  var_199  \n",
       "0   4.3654  10.7200  15.4722  -8.7197  \n",
       "1  -1.4852   9.8714  19.1293 -20.9760  \n",
       "2  -7.1086   7.0618  19.8956 -23.1794  \n",
       "3   3.9567   9.2295  13.0168  -4.2108  \n",
       "4  -5.1612   7.2882  13.9260  -9.1846  \n",
       "\n",
       "[5 rows x 201 columns]"
      ]
     },
     "execution_count": 8,
     "metadata": {},
     "output_type": "execute_result"
    }
   ],
   "source": [
    "# getting overview of data\n",
    "df_test.head()"
   ]
  },
  {
   "cell_type": "code",
   "execution_count": 9,
   "metadata": {},
   "outputs": [
    {
     "data": {
      "text/plain": [
       "(200000, 201)"
      ]
     },
     "execution_count": 9,
     "metadata": {},
     "output_type": "execute_result"
    }
   ],
   "source": [
    "# checking no of rows and columns\n",
    "df_test.shape"
   ]
  },
  {
   "cell_type": "code",
   "execution_count": 9,
   "metadata": {},
   "outputs": [
    {
     "name": "stdout",
     "output_type": "stream",
     "text": [
      "ID_code      object\n",
      "target     category\n",
      "var_0       float64\n",
      "var_1       float64\n",
      "var_2       float64\n",
      "             ...   \n",
      "var_195     float64\n",
      "var_196     float64\n",
      "var_197     float64\n",
      "var_198     float64\n",
      "var_199     float64\n",
      "Length: 202, dtype: object\n"
     ]
    }
   ],
   "source": [
    "# checking variables datatypes \n",
    "print(df_train.dtypes)"
   ]
  },
  {
   "cell_type": "code",
   "execution_count": 7,
   "metadata": {},
   "outputs": [],
   "source": [
    "#converting datatype of target variable\n",
    "df_train['target'] = df_train['target'].astype('category')"
   ]
  },
  {
   "cell_type": "code",
   "execution_count": 8,
   "metadata": {},
   "outputs": [
    {
     "name": "stdout",
     "output_type": "stream",
     "text": [
      "ID_code     object\n",
      "var_0      float64\n",
      "var_1      float64\n",
      "var_2      float64\n",
      "var_3      float64\n",
      "            ...   \n",
      "var_195    float64\n",
      "var_196    float64\n",
      "var_197    float64\n",
      "var_198    float64\n",
      "var_199    float64\n",
      "Length: 201, dtype: object\n"
     ]
    }
   ],
   "source": [
    "# checking variables datatypes\n",
    "print(df_test.dtypes)"
   ]
  },
  {
   "cell_type": "code",
   "execution_count": 10,
   "metadata": {},
   "outputs": [
    {
     "data": {
      "text/plain": [
       "<matplotlib.axes._subplots.AxesSubplot at 0x1d463ed1908>"
      ]
     },
     "execution_count": 10,
     "metadata": {},
     "output_type": "execute_result"
    },
    {
     "data": {
      "image/png": "[encoded data removed]",
      "text/plain": [
       "<Figure size 432x288 with 1 Axes>"
      ]
     },
     "metadata": {
      "needs_background": "light"
     },
     "output_type": "display_data"
    }
   ],
   "source": [
    "#checking data distribution in the target variable\n",
    "df_train['target'].value_counts().plot(kind = 'bar', title = 'Distribution of Target')\n",
    "\n",
    "#It is visible from below graph that data is not equalyy distributed"
   ]
  },
  {
   "cell_type": "code",
   "execution_count": 11,
   "metadata": {},
   "outputs": [
    {
     "data": {
      "text/plain": [
       "0    179902\n",
       "1     20098\n",
       "Name: target, dtype: int64"
      ]
     },
     "execution_count": 11,
     "metadata": {},
     "output_type": "execute_result"
    }
   ],
   "source": [
    "df_train['target'].value_counts()\n",
    "\n",
    "#We can conclude that data is not uniformly distributed only 10% respondents are predicted as yes and 90% as no"
   ]
  },
  {
   "cell_type": "code",
   "execution_count": 12,
   "metadata": {},
   "outputs": [],
   "source": [
    "#checking for missing values\n",
    "missing_val = pd.DataFrame(df_train.isnull().sum())\n",
    "\n",
    "#reshaping missing val dataframe\n",
    "missing_val = missing_val.rename(columns = {'index' : 'Variable Names', 0 : 'Missing_Percent'})\n",
    "\n",
    "#Calculating percentage\n",
    "missing_val['Missing_Percent'] = (missing_val['Missing_Percent']) / len(df_train) * 100\n",
    "\n",
    "#there is no missing values in our train data"
   ]
  },
  {
   "cell_type": "code",
   "execution_count": 16,
   "metadata": {},
   "outputs": [],
   "source": [
    "#Checking correlation\n",
    "corr = df_train.iloc[:,2:25].corr()"
   ]
  },
  {
   "cell_type": "code",
   "execution_count": 18,
   "metadata": {},
   "outputs": [
    {
     "data": {
      "image/png": "[encoded data removed]",
      "text/plain": [
       "<Figure size 1656x1656 with 2 Axes>"
      ]
     },
     "metadata": {
      "needs_background": "light"
     },
     "output_type": "display_data"
    }
   ],
   "source": [
    "# Set the matplotlib figure \n",
    "fig, ax=plt.subplots(figsize=(23,23))\n",
    "# Generate a custom diverging colormap\n",
    "Cmap=sns.diverging_palette(220,10,as_cmap=True)\n",
    "\n",
    "# Draw the heatmap\n",
    "Heatmap= sns.heatmap(corr,  ax=ax, annot=True,   vmin=-1, linewidths=0.2)"
   ]
  },
  {
   "cell_type": "code",
   "execution_count": 13,
   "metadata": {},
   "outputs": [],
   "source": [
    "#Splitting the data\n",
    "train_v1 = pd.DataFrame(df_train['target'])"
   ]
  },
  {
   "cell_type": "code",
   "execution_count": 14,
   "metadata": {},
   "outputs": [],
   "source": [
    "train_v1 = train_v1.join(df_train.iloc[:,2:202])"
   ]
  },
  {
   "cell_type": "code",
   "execution_count": 16,
   "metadata": {},
   "outputs": [],
   "source": [
    "temp = pd.get_dummies(df_train['target'], prefix = 'target')\n",
    "train_v1 = train_v1.join(temp)"
   ]
  },
  {
   "cell_type": "code",
   "execution_count": 21,
   "metadata": {
    "collapsed": true
   },
   "outputs": [
    {
     "name": "stderr",
     "output_type": "stream",
     "text": [
      "C:\\Users\\Sanket.mote\\AppData\\Local\\Continuum\\anaconda3\\lib\\site-packages\\ipykernel_launcher.py:1: FutureWarning: \n",
      ".ix is deprecated. Please use\n",
      ".loc for label based indexing or\n",
      ".iloc for positional indexing\n",
      "\n",
      "See the documentation here:\n",
      "http://pandas.pydata.org/pandas-docs/stable/user_guide/indexing.html#ix-indexer-is-deprecated\n",
      "  \"\"\"Entry point for launching an IPython kernel.\n"
     ]
    }
   ],
   "source": [
    "# Taking all customers with target value as 1\n",
    "df_1 = train_v1.ix[(train_v1['target'] == 1)]\n",
    "\n",
    "# Taking all customers with target value as 0\n",
    "df_0 = train_v1.ix[(train_v1['target'] == 0)]\n",
    "\n",
    "#Resetting index of dataframe df_0\n",
    "df_0.reset_index()\n",
    "\n",
    "#Considering equal no of 0 target value respondents\n",
    "df_0_v1 = pd.DataFrame(df_0.iloc[0:20098,])\n",
    "\n",
    "#Appending Data in 1 dataframe (df_1)\n",
    "df_1 = df_1.append(df_0_v1)\n",
    "print(df_1.shape)\n",
    "print(df_0_v1.shape)"
   ]
  },
  {
   "cell_type": "code",
   "execution_count": 49,
   "metadata": {},
   "outputs": [
    {
     "name": "stdout",
     "output_type": "stream",
     "text": [
      "(40196, 203)\n",
      "(20098, 203)\n"
     ]
    }
   ],
   "source": [
    "#Checking Data frame observation counts\n",
    "print(df_1.shape)\n",
    "print(df_0_v1.shape)"
   ]
  },
  {
   "cell_type": "code",
   "execution_count": 50,
   "metadata": {},
   "outputs": [
    {
     "data": {
      "text/plain": [
       "<matplotlib.axes._subplots.AxesSubplot at 0x1d4771f7288>"
      ]
     },
     "execution_count": 50,
     "metadata": {},
     "output_type": "execute_result"
    },
    {
     "data": {
      "image/png": "[encoded data removed]",
      "text/plain": [
       "<Figure size 432x288 with 1 Axes>"
      ]
     },
     "metadata": {
      "needs_background": "light"
     },
     "output_type": "display_data"
    }
   ],
   "source": [
    "# Now ensuring our data is equally distributed\n",
    "df_1['target'].value_counts().plot(kind = 'bar', title = 'Distribution of New Variable Target')"
   ]
  },
  {
   "cell_type": "code",
   "execution_count": 38,
   "metadata": {},
   "outputs": [],
   "source": [
    "#Creating train and test datasets\n",
    "Sample_Index = np.random.rand(len(train_v1)) < 0.8\n",
    "training_set = train_v1[Sample_Index]\n",
    "test_set = train_v1[~Sample_Index]"
   ]
  },
  {
   "cell_type": "code",
   "execution_count": 55,
   "metadata": {},
   "outputs": [],
   "source": [
    "#Sampling to create small subset of data to check the data\n",
    "#Stratified Sampling\n",
    "\n",
    "y = df_1['target']\n",
    "\n",
    "train, test = train_test_split(df_1, test_size = 0.2, stratify = y)"
   ]
  },
  {
   "cell_type": "code",
   "execution_count": 56,
   "metadata": {},
   "outputs": [
    {
     "name": "stdout",
     "output_type": "stream",
     "text": [
      "(32156, 203)\n",
      "(8040, 203)\n"
     ]
    }
   ],
   "source": [
    "#Test shape\n",
    "print(train.shape)\n",
    "\n",
    "#Train shape\n",
    "print(test.shape)"
   ]
  },
  {
   "cell_type": "code",
   "execution_count": 57,
   "metadata": {},
   "outputs": [
    {
     "name": "stdout",
     "output_type": "stream",
     "text": [
      "1    16078\n",
      "0    16078\n",
      "Name: target, dtype: int64\n",
      "-----------------------------------\n",
      "1    4020\n",
      "0    4020\n",
      "Name: target, dtype: int64\n"
     ]
    }
   ],
   "source": [
    "print(train['target'].value_counts())\n",
    "\n",
    "print('-----------------------------------')\n",
    "\n",
    "print(test['target'].value_counts())"
   ]
  },
  {
   "cell_type": "markdown",
   "metadata": {},
   "source": [
    "# Logistic Regression"
   ]
  },
  {
   "cell_type": "code",
   "execution_count": 62,
   "metadata": {},
   "outputs": [
    {
     "name": "stdout",
     "output_type": "stream",
     "text": [
      "Optimization terminated successfully.\n",
      "         Current function value: 0.463225\n",
      "         Iterations 7\n"
     ]
    }
   ],
   "source": [
    "#Building Logistic Regression after seecting features whose p vlaue is less than 0.05\n",
    "logit = sm.Logit(train['target'], train.iloc[:,1:201]).fit()"
   ]
  },
  {
   "cell_type": "code",
   "execution_count": 63,
   "metadata": {
    "scrolled": true
   },
   "outputs": [
    {
     "name": "stdout",
     "output_type": "stream",
     "text": [
      "                           Logit Regression Results                           \n",
      "==============================================================================\n",
      "Dep. Variable:                 target   No. Observations:                32156\n",
      "Model:                          Logit   Df Residuals:                    31956\n",
      "Method:                           MLE   Df Model:                          199\n",
      "Date:                Tue, 04 Feb 2020   Pseudo R-squ.:                  0.3317\n",
      "Time:                        20:04:17   Log-Likelihood:                -14895.\n",
      "converged:                       True   LL-Null:                       -22289.\n",
      "Covariance Type:            nonrobust   LLR p-value:                     0.000\n",
      "==============================================================================\n",
      "                 coef    std err          z      P>|z|      [0.025      0.975]\n",
      "------------------------------------------------------------------------------\n",
      "var_0          0.0476      0.005     10.420      0.000       0.039       0.057\n",
      "var_1          0.0415      0.003     11.940      0.000       0.035       0.048\n",
      "var_2          0.0643      0.005     12.200      0.000       0.054       0.075\n",
      "var_3          0.0171      0.007      2.448      0.014       0.003       0.031\n",
      "var_4          0.0219      0.009      2.495      0.013       0.005       0.039\n",
      "var_5          0.0159      0.002      8.751      0.000       0.012       0.019\n",
      "var_6          0.2533      0.016     15.627      0.000       0.222       0.285\n",
      "var_7         -0.0002      0.004     -0.055      0.956      -0.008       0.008\n",
      "var_8          0.0218      0.004      5.048      0.000       0.013       0.030\n",
      "var_9         -0.0963      0.011     -8.414      0.000      -0.119      -0.074\n",
      "var_10         0.0017      0.003      0.656      0.512      -0.003       0.007\n",
      "var_11         0.0118      0.002      4.921      0.000       0.007       0.016\n",
      "var_12        -1.1339      0.073    -15.601      0.000      -1.276      -0.991\n",
      "var_13        -0.0342      0.003    -11.222      0.000      -0.040      -0.028\n",
      "var_14         0.0075      0.006      1.174      0.240      -0.005       0.020\n",
      "var_15         0.1270      0.035      3.666      0.000       0.059       0.195\n",
      "var_16         0.0036      0.006      0.644      0.520      -0.007       0.015\n",
      "var_17        -0.0003      0.002     -0.149      0.881      -0.005       0.004\n",
      "var_18         0.0160      0.002      8.846      0.000       0.012       0.019\n",
      "var_19         0.0033      0.002      1.866      0.062      -0.000       0.007\n",
      "var_20        -0.0150      0.002     -6.127      0.000      -0.020      -0.010\n",
      "var_21        -0.0227      0.002    -13.244      0.000      -0.026      -0.019\n",
      "var_22         0.0666      0.005     13.651      0.000       0.057       0.076\n",
      "var_23        -0.1503      0.027     -5.561      0.000      -0.203      -0.097\n",
      "var_24         0.0245      0.004      6.450      0.000       0.017       0.032\n",
      "var_25         0.1752      0.050      3.502      0.000       0.077       0.273\n",
      "var_26         0.0307      0.002     13.101      0.000       0.026       0.035\n",
      "var_27        -0.0040      0.009     -0.428      0.669      -0.022       0.014\n",
      "var_28        -0.1032      0.018     -5.683      0.000      -0.139      -0.068\n",
      "var_29         0.0092      0.005      1.688      0.091      -0.001       0.020\n",
      "var_30         0.0004      0.002      0.211      0.833      -0.003       0.004\n",
      "var_31        -0.0517      0.007     -7.758      0.000      -0.065      -0.039\n",
      "var_32         0.0416      0.005      7.585      0.000       0.031       0.052\n",
      "var_33        -0.0370      0.003    -11.279      0.000      -0.043      -0.031\n",
      "var_34        -0.2983      0.026    -11.356      0.000      -0.350      -0.247\n",
      "var_35         0.0210      0.003      7.685      0.000       0.016       0.026\n",
      "var_36        -0.0448      0.005     -9.806      0.000      -0.054      -0.036\n",
      "var_37         0.0172      0.006      2.701      0.007       0.005       0.030\n",
      "var_38         0.0006      0.003      0.183      0.855      -0.006       0.007\n",
      "var_39        -0.0021      0.004     -0.597      0.551      -0.009       0.005\n",
      "var_40         0.0195      0.002     11.417      0.000       0.016       0.023\n",
      "var_41        -0.0059      0.002     -2.438      0.015      -0.011      -0.001\n",
      "var_42        -0.0283      0.021     -1.377      0.169      -0.068       0.012\n",
      "var_43        -0.2749      0.046     -6.033      0.000      -0.364      -0.186\n",
      "var_44        -0.0278      0.002    -11.809      0.000      -0.032      -0.023\n",
      "var_45        -0.0031      0.001     -4.688      0.000      -0.004      -0.002\n",
      "var_46         0.0023      0.005      0.468      0.640      -0.007       0.012\n",
      "var_47         0.0029      0.001      2.130      0.033       0.000       0.006\n",
      "var_48         0.0100      0.001      7.979      0.000       0.008       0.012\n",
      "var_49         0.0111      0.002      6.129      0.000       0.008       0.015\n",
      "var_50        -0.0755      0.021     -3.664      0.000      -0.116      -0.035\n",
      "var_51         0.0128      0.002      7.410      0.000       0.009       0.016\n",
      "var_52         0.0223      0.003      7.789      0.000       0.017       0.028\n",
      "var_53         0.2840      0.018     15.521      0.000       0.248       0.320\n",
      "var_54        -0.0061      0.002     -3.612      0.000      -0.009      -0.003\n",
      "var_55         0.0114      0.003      4.523      0.000       0.006       0.016\n",
      "var_56        -0.0278      0.004     -6.963      0.000      -0.036      -0.020\n",
      "var_57        -0.0800      0.018     -4.413      0.000      -0.116      -0.044\n",
      "var_58        -0.0184      0.003     -5.568      0.000      -0.025      -0.012\n",
      "var_59        -0.0737      0.017     -4.395      0.000      -0.107      -0.041\n",
      "var_60         0.0106      0.003      3.149      0.002       0.004       0.017\n",
      "var_61         0.0034      0.001      2.739      0.006       0.001       0.006\n",
      "var_62         0.0112      0.007      1.587      0.113      -0.003       0.025\n",
      "var_63        -0.0071      0.005     -1.545      0.122      -0.016       0.002\n",
      "var_64        -0.0204      0.010     -2.098      0.036      -0.039      -0.001\n",
      "var_65         0.0108      0.004      2.867      0.004       0.003       0.018\n",
      "var_66         0.0437      0.013      3.421      0.001       0.019       0.069\n",
      "var_67         0.0194      0.002     10.052      0.000       0.016       0.023\n",
      "var_68         6.5009      0.448     14.510      0.000       5.623       7.379\n",
      "var_69         0.0069      0.004      1.923      0.055      -0.000       0.014\n",
      "var_70         0.0072      0.001      6.027      0.000       0.005       0.010\n",
      "var_71         0.4367      0.054      8.142      0.000       0.332       0.542\n",
      "var_72        -0.0147      0.004     -4.046      0.000      -0.022      -0.008\n",
      "var_73        -0.0041      0.002     -2.144      0.032      -0.008      -0.000\n",
      "var_74         0.0058      0.001      5.723      0.000       0.004       0.008\n",
      "var_75        -0.0216      0.002     -9.273      0.000      -0.026      -0.017\n",
      "var_76        -0.0263      0.002    -14.944      0.000      -0.030      -0.023\n",
      "var_77        -0.0082      0.004     -2.184      0.029      -0.016      -0.001\n",
      "var_78         0.0772      0.007     10.854      0.000       0.063       0.091\n",
      "var_79         0.0227      0.011      2.082      0.037       0.001       0.044\n",
      "var_80        -0.0230      0.002    -12.266      0.000      -0.027      -0.019\n",
      "var_81        -0.1077      0.006    -17.916      0.000      -0.120      -0.096\n",
      "var_82         0.0069      0.002      4.084      0.000       0.004       0.010\n",
      "var_83        -0.0077      0.002     -4.499      0.000      -0.011      -0.004\n",
      "var_84         0.0061      0.002      2.639      0.008       0.002       0.011\n",
      "var_85        -0.0182      0.004     -4.952      0.000      -0.025      -0.011\n",
      "var_86        -0.0176      0.002     -9.674      0.000      -0.021      -0.014\n",
      "var_87        -0.0204      0.003     -8.090      0.000      -0.025      -0.015\n",
      "var_88        -0.0139      0.006     -2.441      0.015      -0.025      -0.003\n",
      "var_89         0.0343      0.004      8.663      0.000       0.027       0.042\n",
      "var_90         0.0070      0.001      6.393      0.000       0.005       0.009\n",
      "var_91         0.8808      0.093      9.517      0.000       0.699       1.062\n",
      "var_92        -0.0338      0.003    -10.007      0.000      -0.040      -0.027\n",
      "var_93        -0.1710      0.026     -6.592      0.000      -0.222      -0.120\n",
      "var_94         0.0674      0.005     13.195      0.000       0.057       0.077\n",
      "var_95         0.2118      0.023      9.400      0.000       0.168       0.256\n",
      "var_96         0.0018      0.002      1.057      0.291      -0.002       0.005\n",
      "var_97         0.0046      0.001      4.016      0.000       0.002       0.007\n",
      "var_98        -0.0221      0.020     -1.106      0.269      -0.061       0.017\n",
      "var_99         0.1045      0.008     13.886      0.000       0.090       0.119\n",
      "var_100        0.0006      0.002      0.385      0.700      -0.002       0.004\n",
      "var_101       -0.0062      0.003     -2.117      0.034      -0.012      -0.000\n",
      "var_102       -0.0068      0.002     -4.071      0.000      -0.010      -0.004\n",
      "var_103        0.1002      0.078      1.289      0.198      -0.052       0.253\n",
      "var_104       -0.0564      0.007     -7.699      0.000      -0.071      -0.042\n",
      "var_105        0.1079      0.017      6.506      0.000       0.075       0.140\n",
      "var_106        0.0561      0.007      7.526      0.000       0.042       0.071\n",
      "var_107       -0.0176      0.002     -9.387      0.000      -0.021      -0.014\n",
      "var_108       -0.8093      0.082     -9.885      0.000      -0.970      -0.649\n",
      "var_109       -0.0340      0.003    -10.542      0.000      -0.040      -0.028\n",
      "var_110        0.0524      0.004     14.389      0.000       0.045       0.060\n",
      "var_111        0.0656      0.013      4.988      0.000       0.040       0.091\n",
      "var_112        0.0485      0.009      5.352      0.000       0.031       0.066\n",
      "var_113       -0.0083      0.003     -2.568      0.010      -0.015      -0.002\n",
      "var_114       -0.0906      0.014     -6.312      0.000      -0.119      -0.062\n",
      "var_115       -0.0643      0.005    -11.939      0.000      -0.075      -0.054\n",
      "var_116       -0.0540      0.009     -6.234      0.000      -0.071      -0.037\n",
      "var_117        0.0009      0.001      0.865      0.387      -0.001       0.003\n",
      "var_118        0.0159      0.002      9.776      0.000       0.013       0.019\n",
      "var_119        0.0193      0.003      5.695      0.000       0.013       0.026\n",
      "var_120       -0.0025      0.001     -2.110      0.035      -0.005      -0.000\n",
      "var_121       -0.0647      0.008     -7.822      0.000      -0.081      -0.048\n",
      "var_122       -0.0255      0.003     -9.305      0.000      -0.031      -0.020\n",
      "var_123       -0.0173      0.002     -7.538      0.000      -0.022      -0.013\n",
      "var_124        0.0029      0.005      0.548      0.584      -0.007       0.013\n",
      "var_125        0.2671      0.044      6.017      0.000       0.180       0.354\n",
      "var_126        0.0076      0.018      0.415      0.678      -0.028       0.044\n",
      "var_127       -0.0385      0.005     -8.493      0.000      -0.047      -0.030\n",
      "var_128        0.0255      0.004      5.792      0.000       0.017       0.034\n",
      "var_129       -0.0075      0.003     -2.150      0.032      -0.014      -0.001\n",
      "var_130        0.1226      0.017      7.191      0.000       0.089       0.156\n",
      "var_131       -0.2042      0.031     -6.555      0.000      -0.265      -0.143\n",
      "var_132       -0.0555      0.010     -5.714      0.000      -0.075      -0.036\n",
      "var_133        0.4931      0.037     13.197      0.000       0.420       0.566\n",
      "var_134        0.0082      0.002      3.535      0.000       0.004       0.013\n",
      "var_135        0.0093      0.002      4.985      0.000       0.006       0.013\n",
      "var_136    -2.677e-05      0.001     -0.019      0.985      -0.003       0.003\n",
      "var_137        0.0099      0.002      6.148      0.000       0.007       0.013\n",
      "var_138        0.0141      0.003      4.511      0.000       0.008       0.020\n",
      "var_139       -0.0307      0.002    -16.947      0.000      -0.034      -0.027\n",
      "var_140        0.0109      0.003      3.725      0.000       0.005       0.017\n",
      "var_141       -0.0130      0.002     -6.203      0.000      -0.017      -0.009\n",
      "var_142       -0.0105      0.003     -4.160      0.000      -0.015      -0.006\n",
      "var_143       -0.0097      0.005     -1.980      0.048      -0.019   -9.97e-05\n",
      "var_144        0.0816      0.015      5.268      0.000       0.051       0.112\n",
      "var_145        0.0324      0.004      8.873      0.000       0.025       0.040\n",
      "var_146       -0.0867      0.006    -15.585      0.000      -0.098      -0.076\n",
      "var_147        0.0158      0.002      8.290      0.000       0.012       0.020\n",
      "var_148       -0.7848      0.071    -11.126      0.000      -0.923      -0.647\n",
      "var_149       -0.0136      0.001     -9.890      0.000      -0.016      -0.011\n",
      "var_150       -0.0435      0.006     -7.519      0.000      -0.055      -0.032\n",
      "var_151        0.0225      0.004      6.284      0.000       0.016       0.030\n",
      "var_152       -0.0111      0.005     -2.333      0.020      -0.020      -0.002\n",
      "var_153       -0.0127      0.007     -1.793      0.073      -0.027       0.001\n",
      "var_154       -0.0290      0.003    -10.190      0.000      -0.035      -0.023\n",
      "var_155        0.0196      0.002      8.049      0.000       0.015       0.024\n",
      "var_156       -0.0477      0.015     -3.193      0.001      -0.077      -0.018\n",
      "var_157        0.0178      0.003      7.041      0.000       0.013       0.023\n",
      "var_158       -0.0005      0.002     -0.282      0.778      -0.004       0.003\n",
      "var_159        0.0103      0.003      2.977      0.003       0.004       0.017\n",
      "var_160        0.0004      0.001      0.310      0.757      -0.002       0.003\n",
      "var_161        0.1655      0.066      2.515      0.012       0.037       0.294\n",
      "var_162        0.0698      0.010      6.986      0.000       0.050       0.089\n",
      "var_163        0.0184      0.003      6.867      0.000       0.013       0.024\n",
      "var_164        0.0240      0.003      9.258      0.000       0.019       0.029\n",
      "var_165       -0.0361      0.003    -12.875      0.000      -0.042      -0.031\n",
      "var_166       -0.4468      0.038    -11.770      0.000      -0.521      -0.372\n",
      "var_167        0.0112      0.002      6.157      0.000       0.008       0.015\n",
      "var_168        0.0144      0.005      3.147      0.002       0.005       0.023\n",
      "var_169       -0.4142      0.038    -10.856      0.000      -0.489      -0.339\n",
      "var_170        0.0396      0.003     12.435      0.000       0.033       0.046\n",
      "var_171        0.0111      0.003      4.185      0.000       0.006       0.016\n",
      "var_172       -0.0148      0.002     -9.061      0.000      -0.018      -0.012\n",
      "var_173        0.0242      0.002     10.139      0.000       0.020       0.029\n",
      "var_174       -0.0280      0.002    -14.296      0.000      -0.032      -0.024\n",
      "var_175        0.0288      0.005      5.848      0.000       0.019       0.038\n",
      "var_176        0.0054      0.002      2.829      0.005       0.002       0.009\n",
      "var_177       -0.0526      0.005     -9.686      0.000      -0.063      -0.042\n",
      "var_178       -0.0029      0.002     -1.746      0.081      -0.006       0.000\n",
      "var_179        0.0530      0.005     10.654      0.000       0.043       0.063\n",
      "var_180        0.0205      0.003      7.645      0.000       0.015       0.026\n",
      "var_181        0.0381      0.010      3.653      0.000       0.018       0.058\n",
      "var_182       -0.0048      0.002     -3.000      0.003      -0.008      -0.002\n",
      "var_183       -0.0011      0.003     -0.354      0.723      -0.007       0.005\n",
      "var_184        0.0151      0.002      9.914      0.000       0.012       0.018\n",
      "var_185       -0.0007      0.003     -0.221      0.825      -0.007       0.005\n",
      "var_186       -0.0306      0.004     -6.878      0.000      -0.039      -0.022\n",
      "var_187        0.0034      0.001      2.761      0.006       0.001       0.006\n",
      "var_188       -0.0313      0.004     -8.692      0.000      -0.038      -0.024\n",
      "var_189        0.0265      0.015      1.800      0.072      -0.002       0.055\n",
      "var_190        0.0413      0.003     13.418      0.000       0.035       0.047\n",
      "var_191        0.0497      0.005     10.756      0.000       0.041       0.059\n",
      "var_192       -0.1045      0.010    -10.763      0.000      -0.124      -0.085\n",
      "var_193       -0.0194      0.004     -5.455      0.000      -0.026      -0.012\n",
      "var_194       -0.0210      0.005     -4.632      0.000      -0.030      -0.012\n",
      "var_195        0.0774      0.010      7.796      0.000       0.058       0.097\n",
      "var_196        0.0113      0.003      4.323      0.000       0.006       0.016\n",
      "var_197       -0.1429      0.015     -9.277      0.000      -0.173      -0.113\n",
      "var_198       -0.0585      0.005    -12.635      0.000      -0.068      -0.049\n",
      "var_199        0.0096      0.001      6.935      0.000       0.007       0.012\n",
      "==============================================================================\n"
     ]
    }
   ],
   "source": [
    "print(logit.summary())"
   ]
  },
  {
   "cell_type": "code",
   "execution_count": 64,
   "metadata": {
    "collapsed": true
   },
   "outputs": [
    {
     "name": "stderr",
     "output_type": "stream",
     "text": [
      "C:\\Users\\Sanket.mote\\AppData\\Local\\Continuum\\anaconda3\\lib\\site-packages\\ipykernel_launcher.py:1: SettingWithCopyWarning: \n",
      "A value is trying to be set on a copy of a slice from a DataFrame.\n",
      "Try using .loc[row_indexer,col_indexer] = value instead\n",
      "\n",
      "See the caveats in the documentation: http://pandas.pydata.org/pandas-docs/stable/user_guide/indexing.html#returning-a-view-versus-a-copy\n",
      "  \"\"\"Entry point for launching an IPython kernel.\n"
     ]
    }
   ],
   "source": [
    "test['target_pred'] = logit.predict(test.iloc[:,1:201])"
   ]
  },
  {
   "cell_type": "code",
   "execution_count": 82,
   "metadata": {},
   "outputs": [],
   "source": [
    "test['target_pred_val'] = 0\n",
    "test.loc[test.target_pred > 0.5, 'target_pred_val'] = 1"
   ]
  },
  {
   "cell_type": "code",
   "execution_count": 67,
   "metadata": {},
   "outputs": [
    {
     "data": {
      "text/html": [
       "<div>\n",
       "<style scoped>\n",
       "    .dataframe tbody tr th:only-of-type {\n",
       "        vertical-align: middle;\n",
       "    }\n",
       "\n",
       "    .dataframe tbody tr th {\n",
       "        vertical-align: top;\n",
       "    }\n",
       "\n",
       "    .dataframe thead th {\n",
       "        text-align: right;\n",
       "    }\n",
       "</style>\n",
       "<table border=\"1\" class=\"dataframe\">\n",
       "  <thead>\n",
       "    <tr style=\"text-align: right;\">\n",
       "      <th></th>\n",
       "      <th>target</th>\n",
       "      <th>var_0</th>\n",
       "      <th>var_1</th>\n",
       "      <th>var_2</th>\n",
       "      <th>var_3</th>\n",
       "      <th>var_4</th>\n",
       "      <th>var_5</th>\n",
       "      <th>var_6</th>\n",
       "      <th>var_7</th>\n",
       "      <th>var_8</th>\n",
       "      <th>...</th>\n",
       "      <th>var_194</th>\n",
       "      <th>var_195</th>\n",
       "      <th>var_196</th>\n",
       "      <th>var_197</th>\n",
       "      <th>var_198</th>\n",
       "      <th>var_199</th>\n",
       "      <th>target_0</th>\n",
       "      <th>target_1</th>\n",
       "      <th>target_pred</th>\n",
       "      <th>target_pred_val</th>\n",
       "    </tr>\n",
       "  </thead>\n",
       "  <tbody>\n",
       "    <tr>\n",
       "      <td>16422</td>\n",
       "      <td>0</td>\n",
       "      <td>14.9177</td>\n",
       "      <td>-0.2666</td>\n",
       "      <td>8.9921</td>\n",
       "      <td>4.5191</td>\n",
       "      <td>9.3874</td>\n",
       "      <td>-17.0243</td>\n",
       "      <td>4.5398</td>\n",
       "      <td>16.3780</td>\n",
       "      <td>1.4438</td>\n",
       "      <td>...</td>\n",
       "      <td>16.9919</td>\n",
       "      <td>-2.0762</td>\n",
       "      <td>1.8559</td>\n",
       "      <td>10.4760</td>\n",
       "      <td>16.7520</td>\n",
       "      <td>4.2356</td>\n",
       "      <td>1</td>\n",
       "      <td>0</td>\n",
       "      <td>0.046856</td>\n",
       "      <td>1</td>\n",
       "    </tr>\n",
       "    <tr>\n",
       "      <td>12245</td>\n",
       "      <td>0</td>\n",
       "      <td>7.0294</td>\n",
       "      <td>-2.6624</td>\n",
       "      <td>8.2328</td>\n",
       "      <td>10.4294</td>\n",
       "      <td>8.5600</td>\n",
       "      <td>-19.9638</td>\n",
       "      <td>4.3387</td>\n",
       "      <td>15.5344</td>\n",
       "      <td>2.0158</td>\n",
       "      <td>...</td>\n",
       "      <td>21.4761</td>\n",
       "      <td>0.5088</td>\n",
       "      <td>1.5263</td>\n",
       "      <td>10.1527</td>\n",
       "      <td>16.9267</td>\n",
       "      <td>0.1044</td>\n",
       "      <td>1</td>\n",
       "      <td>0</td>\n",
       "      <td>0.178975</td>\n",
       "      <td>0</td>\n",
       "    </tr>\n",
       "    <tr>\n",
       "      <td>52156</td>\n",
       "      <td>1</td>\n",
       "      <td>11.3527</td>\n",
       "      <td>-1.9026</td>\n",
       "      <td>13.6351</td>\n",
       "      <td>8.0825</td>\n",
       "      <td>11.2354</td>\n",
       "      <td>-5.2345</td>\n",
       "      <td>4.4390</td>\n",
       "      <td>14.0338</td>\n",
       "      <td>4.7777</td>\n",
       "      <td>...</td>\n",
       "      <td>22.8938</td>\n",
       "      <td>0.5518</td>\n",
       "      <td>3.9624</td>\n",
       "      <td>7.7707</td>\n",
       "      <td>16.5964</td>\n",
       "      <td>-13.5587</td>\n",
       "      <td>0</td>\n",
       "      <td>1</td>\n",
       "      <td>0.190036</td>\n",
       "      <td>0</td>\n",
       "    </tr>\n",
       "    <tr>\n",
       "      <td>8136</td>\n",
       "      <td>0</td>\n",
       "      <td>10.2768</td>\n",
       "      <td>1.8165</td>\n",
       "      <td>8.4147</td>\n",
       "      <td>4.3961</td>\n",
       "      <td>11.3799</td>\n",
       "      <td>-6.4242</td>\n",
       "      <td>5.5100</td>\n",
       "      <td>20.2550</td>\n",
       "      <td>-5.6270</td>\n",
       "      <td>...</td>\n",
       "      <td>20.9280</td>\n",
       "      <td>-0.6058</td>\n",
       "      <td>7.7979</td>\n",
       "      <td>10.0143</td>\n",
       "      <td>14.8880</td>\n",
       "      <td>3.8760</td>\n",
       "      <td>1</td>\n",
       "      <td>0</td>\n",
       "      <td>0.347325</td>\n",
       "      <td>0</td>\n",
       "    </tr>\n",
       "    <tr>\n",
       "      <td>10468</td>\n",
       "      <td>0</td>\n",
       "      <td>9.5471</td>\n",
       "      <td>2.2888</td>\n",
       "      <td>10.4175</td>\n",
       "      <td>7.3407</td>\n",
       "      <td>11.3900</td>\n",
       "      <td>-5.7807</td>\n",
       "      <td>5.3760</td>\n",
       "      <td>23.5057</td>\n",
       "      <td>0.8068</td>\n",
       "      <td>...</td>\n",
       "      <td>19.3364</td>\n",
       "      <td>-0.6895</td>\n",
       "      <td>7.1302</td>\n",
       "      <td>9.6273</td>\n",
       "      <td>19.2936</td>\n",
       "      <td>4.3220</td>\n",
       "      <td>1</td>\n",
       "      <td>0</td>\n",
       "      <td>0.190811</td>\n",
       "      <td>0</td>\n",
       "    </tr>\n",
       "  </tbody>\n",
       "</table>\n",
       "<p>5 rows × 205 columns</p>\n",
       "</div>"
      ],
      "text/plain": [
       "      target    var_0   var_1    var_2    var_3    var_4    var_5   var_6  \\\n",
       "16422      0  14.9177 -0.2666   8.9921   4.5191   9.3874 -17.0243  4.5398   \n",
       "12245      0   7.0294 -2.6624   8.2328  10.4294   8.5600 -19.9638  4.3387   \n",
       "52156      1  11.3527 -1.9026  13.6351   8.0825  11.2354  -5.2345  4.4390   \n",
       "8136       0  10.2768  1.8165   8.4147   4.3961  11.3799  -6.4242  5.5100   \n",
       "10468      0   9.5471  2.2888  10.4175   7.3407  11.3900  -5.7807  5.3760   \n",
       "\n",
       "         var_7   var_8  ...  var_194  var_195  var_196  var_197  var_198  \\\n",
       "16422  16.3780  1.4438  ...  16.9919  -2.0762   1.8559  10.4760  16.7520   \n",
       "12245  15.5344  2.0158  ...  21.4761   0.5088   1.5263  10.1527  16.9267   \n",
       "52156  14.0338  4.7777  ...  22.8938   0.5518   3.9624   7.7707  16.5964   \n",
       "8136   20.2550 -5.6270  ...  20.9280  -0.6058   7.7979  10.0143  14.8880   \n",
       "10468  23.5057  0.8068  ...  19.3364  -0.6895   7.1302   9.6273  19.2936   \n",
       "\n",
       "       var_199  target_0  target_1  target_pred  target_pred_val  \n",
       "16422   4.2356         1         0     0.046856                1  \n",
       "12245   0.1044         1         0     0.178975                0  \n",
       "52156 -13.5587         0         1     0.190036                0  \n",
       "8136    3.8760         1         0     0.347325                0  \n",
       "10468   4.3220         1         0     0.190811                0  \n",
       "\n",
       "[5 rows x 205 columns]"
      ]
     },
     "execution_count": 67,
     "metadata": {},
     "output_type": "execute_result"
    }
   ],
   "source": [
    "test.head()"
   ]
  },
  {
   "cell_type": "code",
   "execution_count": 83,
   "metadata": {},
   "outputs": [],
   "source": [
    "#Build Confusion Matrix\n",
    "CM_LR = pd.crosstab(test['target'], test['target_pred_val'])"
   ]
  },
  {
   "cell_type": "code",
   "execution_count": 84,
   "metadata": {},
   "outputs": [
    {
     "data": {
      "text/html": [
       "<div>\n",
       "<style scoped>\n",
       "    .dataframe tbody tr th:only-of-type {\n",
       "        vertical-align: middle;\n",
       "    }\n",
       "\n",
       "    .dataframe tbody tr th {\n",
       "        vertical-align: top;\n",
       "    }\n",
       "\n",
       "    .dataframe thead th {\n",
       "        text-align: right;\n",
       "    }\n",
       "</style>\n",
       "<table border=\"1\" class=\"dataframe\">\n",
       "  <thead>\n",
       "    <tr style=\"text-align: right;\">\n",
       "      <th>target_pred_val</th>\n",
       "      <th>0</th>\n",
       "      <th>1</th>\n",
       "    </tr>\n",
       "    <tr>\n",
       "      <th>target</th>\n",
       "      <th></th>\n",
       "      <th></th>\n",
       "    </tr>\n",
       "  </thead>\n",
       "  <tbody>\n",
       "    <tr>\n",
       "      <td>0</td>\n",
       "      <td>3091</td>\n",
       "      <td>929</td>\n",
       "    </tr>\n",
       "    <tr>\n",
       "      <td>1</td>\n",
       "      <td>849</td>\n",
       "      <td>3171</td>\n",
       "    </tr>\n",
       "  </tbody>\n",
       "</table>\n",
       "</div>"
      ],
      "text/plain": [
       "target_pred_val     0     1\n",
       "target                     \n",
       "0                3091   929\n",
       "1                 849  3171"
      ]
     },
     "execution_count": 84,
     "metadata": {},
     "output_type": "execute_result"
    }
   ],
   "source": [
    "CM_LR"
   ]
  },
  {
   "cell_type": "code",
   "execution_count": 85,
   "metadata": {},
   "outputs": [],
   "source": [
    "TP = CM_LR.iloc[1,1]\n",
    "FP = CM_LR.iloc[0,1]\n",
    "FN = CM_LR.iloc[1,0]\n",
    "TN = CM_LR.iloc[0,0]"
   ]
  },
  {
   "cell_type": "code",
   "execution_count": 86,
   "metadata": {},
   "outputs": [
    {
     "data": {
      "text/plain": [
       "77.88557213930348"
      ]
     },
     "execution_count": 86,
     "metadata": {},
     "output_type": "execute_result"
    }
   ],
   "source": [
    "# Check accuracy of the model\n",
    "((TP+TN)*100) / (TP+FP+FN+TN)"
   ]
  },
  {
   "cell_type": "markdown",
   "metadata": {},
   "source": [
    "# Run 2 selecting values with p value lesser than 0.05"
   ]
  },
  {
   "cell_type": "code",
   "execution_count": 72,
   "metadata": {},
   "outputs": [],
   "source": [
    "dnames = ('var_10','var_14','var_16','var_17','var_27','var_29','var_30','var_38','var_39','var_41','var_42','var_46','var_73',\n",
    "          'var_79','var_96','var_98','var_100','var_103','var_117','var_124','var_126','var_129','var_136','var_153','var_158',\n",
    "          'var_160','var_183','var_185')"
   ]
  },
  {
   "cell_type": "code",
   "execution_count": 32,
   "metadata": {},
   "outputs": [],
   "source": [
    "#Creating train and test datasets\n",
    "Sample_Index = np.random.rand(len(train_v1)) < 0.8\n",
    "training_set_v2 = train_v1[Sample_Index]\n",
    "test_set_v2 = train_v1[~Sample_Index]"
   ]
  },
  {
   "cell_type": "code",
   "execution_count": 33,
   "metadata": {},
   "outputs": [
    {
     "data": {
      "text/plain": [
       "(160054, 203)"
      ]
     },
     "execution_count": 33,
     "metadata": {},
     "output_type": "execute_result"
    }
   ],
   "source": [
    "training_set_v2.shape"
   ]
  },
  {
   "cell_type": "code",
   "execution_count": 74,
   "metadata": {},
   "outputs": [],
   "source": [
    "test_backup = test.copy()\n",
    "train_backup = train.copy()"
   ]
  },
  {
   "cell_type": "code",
   "execution_count": 77,
   "metadata": {
    "collapsed": true
   },
   "outputs": [
    {
     "name": "stdout",
     "output_type": "stream",
     "text": [
      "var_10\n",
      "var_14\n",
      "var_16\n",
      "var_17\n",
      "var_27\n",
      "var_29\n",
      "var_30\n",
      "var_38\n",
      "var_39\n",
      "var_41\n",
      "var_42\n",
      "var_46\n",
      "var_73\n",
      "var_79\n",
      "var_96\n",
      "var_98\n",
      "var_100\n",
      "var_103\n",
      "var_117\n",
      "var_124\n",
      "var_126\n",
      "var_129\n",
      "var_136\n",
      "var_153\n",
      "var_158\n",
      "var_160\n",
      "var_183\n",
      "var_185\n"
     ]
    }
   ],
   "source": [
    "# Dropping variables with P value greater than 0.05\n",
    "for i in dnames:\n",
    "    print(i)\n",
    "    train = train.drop(i, axis = 1)\n",
    "    \n",
    "for i in dnames:\n",
    "    print(i)\n",
    "    test = test.drop(i, axis = 1)"
   ]
  },
  {
   "cell_type": "code",
   "execution_count": 78,
   "metadata": {},
   "outputs": [
    {
     "name": "stdout",
     "output_type": "stream",
     "text": [
      "(32156, 175)\n",
      "(8040, 177)\n"
     ]
    }
   ],
   "source": [
    "print(train.shape)\n",
    "print(test.shape)"
   ]
  },
  {
   "cell_type": "code",
   "execution_count": 80,
   "metadata": {},
   "outputs": [
    {
     "name": "stdout",
     "output_type": "stream",
     "text": [
      "Optimization terminated successfully.\n",
      "         Current function value: 0.463783\n",
      "         Iterations 6\n"
     ]
    }
   ],
   "source": [
    "#Re-Building Logistic Regression after seecting features whose p vlaue is less than 0.05\n",
    "logit_v2 = sm.Logit(train['target'], train.iloc[:,1:173]).fit()"
   ]
  },
  {
   "cell_type": "code",
   "execution_count": 81,
   "metadata": {},
   "outputs": [],
   "source": [
    "test['target_pred'] = logit_v2.predict(test.iloc[:,1:173])"
   ]
  },
  {
   "cell_type": "code",
   "execution_count": 87,
   "metadata": {},
   "outputs": [],
   "source": [
    "test['target_pred_val'] = 0\n",
    "test.loc[test.target_pred > 0.5, 'target_pred_val'] = 1"
   ]
  },
  {
   "cell_type": "code",
   "execution_count": 88,
   "metadata": {},
   "outputs": [],
   "source": [
    "#Build Confusion Matrix\n",
    "CM_v2 = pd.crosstab(test['target'], test['target_pred_val'])"
   ]
  },
  {
   "cell_type": "code",
   "execution_count": 89,
   "metadata": {},
   "outputs": [
    {
     "data": {
      "text/html": [
       "<div>\n",
       "<style scoped>\n",
       "    .dataframe tbody tr th:only-of-type {\n",
       "        vertical-align: middle;\n",
       "    }\n",
       "\n",
       "    .dataframe tbody tr th {\n",
       "        vertical-align: top;\n",
       "    }\n",
       "\n",
       "    .dataframe thead th {\n",
       "        text-align: right;\n",
       "    }\n",
       "</style>\n",
       "<table border=\"1\" class=\"dataframe\">\n",
       "  <thead>\n",
       "    <tr style=\"text-align: right;\">\n",
       "      <th>target_pred_val</th>\n",
       "      <th>0</th>\n",
       "      <th>1</th>\n",
       "    </tr>\n",
       "    <tr>\n",
       "      <th>target</th>\n",
       "      <th></th>\n",
       "      <th></th>\n",
       "    </tr>\n",
       "  </thead>\n",
       "  <tbody>\n",
       "    <tr>\n",
       "      <td>0</td>\n",
       "      <td>3091</td>\n",
       "      <td>929</td>\n",
       "    </tr>\n",
       "    <tr>\n",
       "      <td>1</td>\n",
       "      <td>849</td>\n",
       "      <td>3171</td>\n",
       "    </tr>\n",
       "  </tbody>\n",
       "</table>\n",
       "</div>"
      ],
      "text/plain": [
       "target_pred_val     0     1\n",
       "target                     \n",
       "0                3091   929\n",
       "1                 849  3171"
      ]
     },
     "execution_count": 89,
     "metadata": {},
     "output_type": "execute_result"
    }
   ],
   "source": [
    "CM_v2"
   ]
  },
  {
   "cell_type": "code",
   "execution_count": 63,
   "metadata": {},
   "outputs": [],
   "source": [
    "#test_set_v2.to_csv(\"LR_Output_26012020.csv\", index = False)"
   ]
  },
  {
   "cell_type": "code",
   "execution_count": 90,
   "metadata": {},
   "outputs": [],
   "source": [
    "TN_v21 = CM_v2.iloc[0,0]\n",
    "TP_v21 = CM_v2.iloc[1,1]\n",
    "FP_v21 = CM_v2.iloc[0,1]\n",
    "FN_v21 = CM_v2.iloc[1,0]"
   ]
  },
  {
   "cell_type": "code",
   "execution_count": 91,
   "metadata": {},
   "outputs": [
    {
     "name": "stdout",
     "output_type": "stream",
     "text": [
      "3171\n",
      "3091\n",
      "929\n",
      "849\n"
     ]
    }
   ],
   "source": [
    "print(TP_v21)\n",
    "print(TN_v21)\n",
    "print(FP_v21)\n",
    "print(FN_v21)"
   ]
  },
  {
   "cell_type": "code",
   "execution_count": 92,
   "metadata": {},
   "outputs": [
    {
     "data": {
      "text/plain": [
       "77.88557213930348"
      ]
     },
     "execution_count": 92,
     "metadata": {},
     "output_type": "execute_result"
    }
   ],
   "source": [
    "# Check accuracy of the model\n",
    "((TP_v21+TN_v21)*100) / (TP_v21+FP_v21+FN_v21+TN_v21)"
   ]
  },
  {
   "cell_type": "code",
   "execution_count": 93,
   "metadata": {},
   "outputs": [],
   "source": [
    "#Import for ROC AUC Curve\n",
    "from sklearn.metrics import confusion_matrix,roc_auc_score,roc_curve,classification_report,roc_curve,auc"
   ]
  },
  {
   "cell_type": "code",
   "execution_count": 94,
   "metadata": {},
   "outputs": [
    {
     "name": "stdout",
     "output_type": "stream",
     "text": [
      "ROC Score Logistic Regression: 0.7788557213930348\n"
     ]
    }
   ],
   "source": [
    "#ROC_AUC SCORE\n",
    "roc_score=roc_auc_score(test['target'], test['target_pred_val'])\n",
    "print('ROC Score Logistic Regression:',roc_score)"
   ]
  },
  {
   "cell_type": "code",
   "execution_count": 95,
   "metadata": {},
   "outputs": [
    {
     "data": {
      "image/png": "[encoded data removed]",
      "text/plain": [
       "<Figure size 432x288 with 1 Axes>"
      ]
     },
     "metadata": {
      "needs_background": "light"
     },
     "output_type": "display_data"
    },
    {
     "name": "stdout",
     "output_type": "stream",
     "text": [
      "AUC: 0.7788557213930348\n"
     ]
    }
   ],
   "source": [
    "#ROC_AUC_Curve:-\n",
    "plt.figure()\n",
    "false_positive_rate,recall,thresholds=roc_curve(test['target'], test['target_pred_val'])\n",
    "roc_auc=auc(false_positive_rate,recall)\n",
    "plt.title('Reciver Operating Characteristics(ROC) for Logistic Regression')\n",
    "plt.plot(false_positive_rate,recall,'b',label='ROC(area=%0.3f)' %roc_auc)\n",
    "plt.legend()\n",
    "plt.plot([0,1],[0,1],'r--')\n",
    "plt.xlim([0.0,1.0])\n",
    "plt.ylim([0.0,1.0])\n",
    "plt.ylabel('Recall(True Positive Rate)')\n",
    "plt.xlabel('False Positive Rate')\n",
    "plt.show()\n",
    "print('AUC:',roc_auc)"
   ]
  },
  {
   "cell_type": "code",
   "execution_count": 96,
   "metadata": {},
   "outputs": [
    {
     "name": "stdout",
     "output_type": "stream",
     "text": [
      "              precision    recall  f1-score   support\n",
      "\n",
      "           0       0.78      0.77      0.78      4020\n",
      "           1       0.77      0.79      0.78      4020\n",
      "\n",
      "    accuracy                           0.78      8040\n",
      "   macro avg       0.78      0.78      0.78      8040\n",
      "weighted avg       0.78      0.78      0.78      8040\n",
      "\n"
     ]
    }
   ],
   "source": [
    "#Classification report:-\n",
    "classification_scores=classification_report(test['target'], test['target_pred_val'])\n",
    "print(classification_scores)"
   ]
  },
  {
   "cell_type": "markdown",
   "metadata": {},
   "source": [
    "* Generating Output file for TEST dataset using Logistic Regression"
   ]
  },
  {
   "cell_type": "code",
   "execution_count": 97,
   "metadata": {
    "collapsed": true
   },
   "outputs": [
    {
     "name": "stdout",
     "output_type": "stream",
     "text": [
      "var_10\n",
      "var_14\n",
      "var_16\n",
      "var_17\n",
      "var_27\n",
      "var_29\n",
      "var_30\n",
      "var_38\n",
      "var_39\n",
      "var_41\n",
      "var_42\n",
      "var_46\n",
      "var_73\n",
      "var_79\n",
      "var_96\n",
      "var_98\n",
      "var_100\n",
      "var_103\n",
      "var_117\n",
      "var_124\n",
      "var_126\n",
      "var_129\n",
      "var_136\n",
      "var_153\n",
      "var_158\n",
      "var_160\n",
      "var_183\n",
      "var_185\n"
     ]
    }
   ],
   "source": [
    "#Dropping variables from our Test dataset provided whose p value is greater than 0.05\n",
    "for i in dnames:\n",
    "    print(i)\n",
    "    df_test = df_test.drop(i, axis = 1)"
   ]
  },
  {
   "cell_type": "code",
   "execution_count": 98,
   "metadata": {},
   "outputs": [
    {
     "data": {
      "text/plain": [
       "(200000, 173)"
      ]
     },
     "execution_count": 98,
     "metadata": {},
     "output_type": "execute_result"
    }
   ],
   "source": [
    "#checking shape of test dataset\n",
    "df_test.shape"
   ]
  },
  {
   "cell_type": "code",
   "execution_count": 99,
   "metadata": {},
   "outputs": [],
   "source": [
    "df_test['target_pred'] = logit_v2.predict(df_test.iloc[:,1:173])"
   ]
  },
  {
   "cell_type": "code",
   "execution_count": 100,
   "metadata": {},
   "outputs": [],
   "source": [
    "df_test['target_predicted_value'] = 0\n",
    "df_test.loc[df_test.target_pred > 0.5, 'target_predicted_value'] = 1"
   ]
  },
  {
   "cell_type": "code",
   "execution_count": 102,
   "metadata": {},
   "outputs": [
    {
     "data": {
      "text/plain": [
       "0    144747\n",
       "1     55253\n",
       "Name: target_predicted_value, dtype: int64"
      ]
     },
     "execution_count": 102,
     "metadata": {},
     "output_type": "execute_result"
    }
   ],
   "source": [
    "df_test['target_predicted_value'].value_counts()"
   ]
  },
  {
   "cell_type": "code",
   "execution_count": 103,
   "metadata": {},
   "outputs": [],
   "source": [
    "#Selecting required columns for output file generation\n",
    "LR_Output = df_test['ID_code']\n",
    "LR_Output = pd.DataFrame(LR_Output)\n",
    "LR_Output = LR_Output.join(df_test['target_pred'])\n",
    "LR_Output = LR_Output.join(df_test['target_predicted_value'])"
   ]
  },
  {
   "cell_type": "code",
   "execution_count": 104,
   "metadata": {},
   "outputs": [],
   "source": [
    "#Creating output file\n",
    "LR_Output.to_csv(\"Logistic_Regression_Output_Python.csv\", header = True, index = False)"
   ]
  },
  {
   "cell_type": "markdown",
   "metadata": {},
   "source": [
    "# Random Forest Classifier Algorithm #"
   ]
  },
  {
   "cell_type": "code",
   "execution_count": 105,
   "metadata": {},
   "outputs": [],
   "source": [
    "# Building Random Forest Model\n",
    "RF_model = RandomForestClassifier(n_estimators = 100).fit(train.iloc[:,1:173], train['target'])"
   ]
  },
  {
   "cell_type": "code",
   "execution_count": 106,
   "metadata": {},
   "outputs": [],
   "source": [
    "RF_Predictions = RF_model.predict(test.iloc[:,1:173])"
   ]
  },
  {
   "cell_type": "code",
   "execution_count": 107,
   "metadata": {},
   "outputs": [],
   "source": [
    "#creating confusion matrix\n",
    "CM_RF = pd.crosstab(test['target'], RF_Predictions)"
   ]
  },
  {
   "cell_type": "code",
   "execution_count": 108,
   "metadata": {},
   "outputs": [
    {
     "data": {
      "text/html": [
       "<div>\n",
       "<style scoped>\n",
       "    .dataframe tbody tr th:only-of-type {\n",
       "        vertical-align: middle;\n",
       "    }\n",
       "\n",
       "    .dataframe tbody tr th {\n",
       "        vertical-align: top;\n",
       "    }\n",
       "\n",
       "    .dataframe thead th {\n",
       "        text-align: right;\n",
       "    }\n",
       "</style>\n",
       "<table border=\"1\" class=\"dataframe\">\n",
       "  <thead>\n",
       "    <tr style=\"text-align: right;\">\n",
       "      <th>col_0</th>\n",
       "      <th>0</th>\n",
       "      <th>1</th>\n",
       "    </tr>\n",
       "    <tr>\n",
       "      <th>target</th>\n",
       "      <th></th>\n",
       "      <th></th>\n",
       "    </tr>\n",
       "  </thead>\n",
       "  <tbody>\n",
       "    <tr>\n",
       "      <td>0</td>\n",
       "      <td>2918</td>\n",
       "      <td>1102</td>\n",
       "    </tr>\n",
       "    <tr>\n",
       "      <td>1</td>\n",
       "      <td>937</td>\n",
       "      <td>3083</td>\n",
       "    </tr>\n",
       "  </tbody>\n",
       "</table>\n",
       "</div>"
      ],
      "text/plain": [
       "col_0      0     1\n",
       "target            \n",
       "0       2918  1102\n",
       "1        937  3083"
      ]
     },
     "execution_count": 108,
     "metadata": {},
     "output_type": "execute_result"
    }
   ],
   "source": [
    "CM_RF"
   ]
  },
  {
   "cell_type": "code",
   "execution_count": 109,
   "metadata": {
    "collapsed": true
   },
   "outputs": [
    {
     "data": {
      "text/html": [
       "<div>\n",
       "<style scoped>\n",
       "    .dataframe tbody tr th:only-of-type {\n",
       "        vertical-align: middle;\n",
       "    }\n",
       "\n",
       "    .dataframe tbody tr th {\n",
       "        vertical-align: top;\n",
       "    }\n",
       "\n",
       "    .dataframe thead th {\n",
       "        text-align: right;\n",
       "    }\n",
       "</style>\n",
       "<table border=\"1\" class=\"dataframe\">\n",
       "  <thead>\n",
       "    <tr style=\"text-align: right;\">\n",
       "      <th></th>\n",
       "      <th>0</th>\n",
       "    </tr>\n",
       "  </thead>\n",
       "  <tbody>\n",
       "    <tr>\n",
       "      <td>count</td>\n",
       "      <td>8040.000000</td>\n",
       "    </tr>\n",
       "    <tr>\n",
       "      <td>mean</td>\n",
       "      <td>0.520522</td>\n",
       "    </tr>\n",
       "    <tr>\n",
       "      <td>std</td>\n",
       "      <td>0.499610</td>\n",
       "    </tr>\n",
       "    <tr>\n",
       "      <td>min</td>\n",
       "      <td>0.000000</td>\n",
       "    </tr>\n",
       "    <tr>\n",
       "      <td>25%</td>\n",
       "      <td>0.000000</td>\n",
       "    </tr>\n",
       "    <tr>\n",
       "      <td>50%</td>\n",
       "      <td>1.000000</td>\n",
       "    </tr>\n",
       "    <tr>\n",
       "      <td>75%</td>\n",
       "      <td>1.000000</td>\n",
       "    </tr>\n",
       "    <tr>\n",
       "      <td>max</td>\n",
       "      <td>1.000000</td>\n",
       "    </tr>\n",
       "  </tbody>\n",
       "</table>\n",
       "</div>"
      ],
      "text/plain": [
       "                 0\n",
       "count  8040.000000\n",
       "mean      0.520522\n",
       "std       0.499610\n",
       "min       0.000000\n",
       "25%       0.000000\n",
       "50%       1.000000\n",
       "75%       1.000000\n",
       "max       1.000000"
      ]
     },
     "execution_count": 109,
     "metadata": {},
     "output_type": "execute_result"
    }
   ],
   "source": [
    "RF_Predictions_df = pd.DataFrame(RF_Predictions)\n",
    "RF_Predictions_df.describe()"
   ]
  },
  {
   "cell_type": "code",
   "execution_count": 110,
   "metadata": {},
   "outputs": [],
   "source": [
    "TN_RF = CM_RF.iloc[0,0]\n",
    "TP_RF = CM_RF.iloc[1,1]\n",
    "FP_RF = CM_RF.iloc[0,1]\n",
    "FN_RF = CM_RF.iloc[1,0]"
   ]
  },
  {
   "cell_type": "code",
   "execution_count": 111,
   "metadata": {},
   "outputs": [
    {
     "name": "stdout",
     "output_type": "stream",
     "text": [
      "True Positive: 3083\n",
      "True Negative: 2918\n",
      "False Positive: 1102\n",
      "False Negative: 937\n"
     ]
    }
   ],
   "source": [
    "print('True Positive:', TP_RF)\n",
    "print('True Negative:', TN_RF)\n",
    "print('False Positive:', FP_RF)\n",
    "print('False Negative:', FN_RF)"
   ]
  },
  {
   "cell_type": "code",
   "execution_count": 112,
   "metadata": {},
   "outputs": [
    {
     "data": {
      "text/plain": [
       "74.63930348258707"
      ]
     },
     "execution_count": 112,
     "metadata": {},
     "output_type": "execute_result"
    }
   ],
   "source": [
    "# Check accuracy of the model\n",
    "((TP_RF+TN_RF)*100) / (TP_RF+TN_RF+FP_RF+FN_RF)"
   ]
  },
  {
   "cell_type": "code",
   "execution_count": 113,
   "metadata": {},
   "outputs": [
    {
     "name": "stdout",
     "output_type": "stream",
     "text": [
      "ROC Score Random Forest: 0.7463930348258705\n"
     ]
    }
   ],
   "source": [
    "#ROC_AUC SCORE FOR RANDOM FOREST\n",
    "roc_score_rf=roc_auc_score(test['target'], RF_Predictions)\n",
    "print('ROC Score Random Forest:',roc_score_rf)"
   ]
  },
  {
   "cell_type": "code",
   "execution_count": 114,
   "metadata": {},
   "outputs": [
    {
     "data": {
      "image/png": "[encoded data removed]",
      "text/plain": [
       "<Figure size 432x288 with 1 Axes>"
      ]
     },
     "metadata": {
      "needs_background": "light"
     },
     "output_type": "display_data"
    },
    {
     "name": "stdout",
     "output_type": "stream",
     "text": [
      "AUC_RF: 0.7463930348258705\n"
     ]
    }
   ],
   "source": [
    "#ROC_AUC_Curve for Random forest\n",
    "plt.figure()\n",
    "false_positive_rate_rf,recall_rf,thresholds_rf=roc_curve(test['target'], RF_Predictions)\n",
    "roc_auc_rf=auc(false_positive_rate_rf,recall_rf)\n",
    "plt.title('Reciver Operating Characteristics(ROC) for Random Forest')\n",
    "plt.plot(false_positive_rate_rf,recall_rf,'b',label='ROC(area=%0.3f)' %roc_auc_rf)\n",
    "plt.legend()\n",
    "plt.plot([0,1],[0,1],'r--')\n",
    "plt.xlim([0.0,1.0])\n",
    "plt.ylim([0.0,1.0])\n",
    "plt.ylabel('Recall(True Positive Rate)')\n",
    "plt.xlabel('False Positive Rate')\n",
    "plt.show()\n",
    "print('AUC_RF:',roc_auc_rf)"
   ]
  },
  {
   "cell_type": "code",
   "execution_count": 115,
   "metadata": {},
   "outputs": [
    {
     "name": "stdout",
     "output_type": "stream",
     "text": [
      "              precision    recall  f1-score   support\n",
      "\n",
      "           0       0.76      0.73      0.74      4020\n",
      "           1       0.74      0.77      0.75      4020\n",
      "\n",
      "    accuracy                           0.75      8040\n",
      "   macro avg       0.75      0.75      0.75      8040\n",
      "weighted avg       0.75      0.75      0.75      8040\n",
      "\n"
     ]
    }
   ],
   "source": [
    "#Classification report:-\n",
    "classification_scores_rf=classification_report(test['target'], RF_Predictions)\n",
    "print(classification_scores_rf)"
   ]
  },
  {
   "cell_type": "markdown",
   "metadata": {},
   "source": [
    "* Generating Output file for TEST dataset using Random Forest"
   ]
  },
  {
   "cell_type": "code",
   "execution_count": 116,
   "metadata": {},
   "outputs": [],
   "source": [
    "# Generating output for our test dataset provided\n",
    "df_test['target_pred_RF'] = RF_model.predict(df_test.iloc[:,1:173])"
   ]
  },
  {
   "cell_type": "code",
   "execution_count": 117,
   "metadata": {},
   "outputs": [
    {
     "data": {
      "text/plain": [
       "0    138025\n",
       "1     61975\n",
       "Name: target_pred_RF, dtype: int64"
      ]
     },
     "execution_count": 117,
     "metadata": {},
     "output_type": "execute_result"
    }
   ],
   "source": [
    "df_test['target_pred_RF'].value_counts()"
   ]
  },
  {
   "cell_type": "code",
   "execution_count": 118,
   "metadata": {},
   "outputs": [],
   "source": [
    "#Selecting required columns for output file generation\n",
    "RF_Output = df_test['ID_code']\n",
    "RF_Output = pd.DataFrame(RF_Output)\n",
    "RF_Output = RF_Output.join(df_test['target_pred_RF'])"
   ]
  },
  {
   "cell_type": "code",
   "execution_count": 119,
   "metadata": {},
   "outputs": [],
   "source": [
    "#Creating output file\n",
    "RF_Output.to_csv(\"Random_Forest_Output_Python.csv\", header = True, index = False)"
   ]
  },
  {
   "cell_type": "markdown",
   "metadata": {},
   "source": [
    "# Naive Bayes Algorithm"
   ]
  },
  {
   "cell_type": "code",
   "execution_count": 121,
   "metadata": {},
   "outputs": [],
   "source": [
    "from sklearn.naive_bayes import GaussianNB"
   ]
  },
  {
   "cell_type": "code",
   "execution_count": 123,
   "metadata": {},
   "outputs": [],
   "source": [
    "#Running Naive Bayes Algorithm\n",
    "NB_model = GaussianNB().fit(train.iloc[:,1:173],train['target'])"
   ]
  },
  {
   "cell_type": "code",
   "execution_count": 124,
   "metadata": {},
   "outputs": [],
   "source": [
    "#Predicting test data\n",
    "NB_predictions = NB_model.predict(test.iloc[:,1:173])"
   ]
  },
  {
   "cell_type": "code",
   "execution_count": 125,
   "metadata": {},
   "outputs": [],
   "source": [
    "#Build Confusion Matrix\n",
    "CM_NB = pd.crosstab(test['target'], NB_predictions)"
   ]
  },
  {
   "cell_type": "code",
   "execution_count": 126,
   "metadata": {},
   "outputs": [
    {
     "data": {
      "text/html": [
       "<div>\n",
       "<style scoped>\n",
       "    .dataframe tbody tr th:only-of-type {\n",
       "        vertical-align: middle;\n",
       "    }\n",
       "\n",
       "    .dataframe tbody tr th {\n",
       "        vertical-align: top;\n",
       "    }\n",
       "\n",
       "    .dataframe thead th {\n",
       "        text-align: right;\n",
       "    }\n",
       "</style>\n",
       "<table border=\"1\" class=\"dataframe\">\n",
       "  <thead>\n",
       "    <tr style=\"text-align: right;\">\n",
       "      <th>col_0</th>\n",
       "      <th>0</th>\n",
       "      <th>1</th>\n",
       "    </tr>\n",
       "    <tr>\n",
       "      <th>target</th>\n",
       "      <th></th>\n",
       "      <th></th>\n",
       "    </tr>\n",
       "  </thead>\n",
       "  <tbody>\n",
       "    <tr>\n",
       "      <td>0</td>\n",
       "      <td>3227</td>\n",
       "      <td>793</td>\n",
       "    </tr>\n",
       "    <tr>\n",
       "      <td>1</td>\n",
       "      <td>750</td>\n",
       "      <td>3270</td>\n",
       "    </tr>\n",
       "  </tbody>\n",
       "</table>\n",
       "</div>"
      ],
      "text/plain": [
       "col_0      0     1\n",
       "target            \n",
       "0       3227   793\n",
       "1        750  3270"
      ]
     },
     "execution_count": 126,
     "metadata": {},
     "output_type": "execute_result"
    }
   ],
   "source": [
    "CM_NB"
   ]
  },
  {
   "cell_type": "code",
   "execution_count": 127,
   "metadata": {},
   "outputs": [],
   "source": [
    "TN_NB = CM_NB.iloc[0,0]\n",
    "TP_NB = CM_NB.iloc[1,1]\n",
    "FP_NB = CM_NB.iloc[0,1]\n",
    "FN_NB = CM_NB.iloc[1,0]"
   ]
  },
  {
   "cell_type": "code",
   "execution_count": 128,
   "metadata": {},
   "outputs": [
    {
     "name": "stdout",
     "output_type": "stream",
     "text": [
      "3270\n",
      "3227\n",
      "793\n",
      "750\n"
     ]
    }
   ],
   "source": [
    "print(TP_NB)\n",
    "print(TN_NB)\n",
    "print(FP_NB)\n",
    "print(FN_NB)"
   ]
  },
  {
   "cell_type": "code",
   "execution_count": 129,
   "metadata": {},
   "outputs": [
    {
     "data": {
      "text/plain": [
       "80.80845771144278"
      ]
     },
     "execution_count": 129,
     "metadata": {},
     "output_type": "execute_result"
    }
   ],
   "source": [
    "# Check accuracy of the model\n",
    "((TP_NB+TN_NB)*100) / (TP_NB+FP_NB+FN_NB+TN_NB)"
   ]
  },
  {
   "cell_type": "code",
   "execution_count": 130,
   "metadata": {},
   "outputs": [
    {
     "name": "stdout",
     "output_type": "stream",
     "text": [
      "ROC Score Naive Bayes: 0.8080845771144279\n"
     ]
    }
   ],
   "source": [
    "#ROC_AUC SCORE\n",
    "roc_score_nb = roc_auc_score(test['target'], NB_predictions)\n",
    "print('ROC Score Naive Bayes:',roc_score_nb)"
   ]
  },
  {
   "cell_type": "code",
   "execution_count": 131,
   "metadata": {},
   "outputs": [
    {
     "data": {
      "image/png": "[encoded data removed]",
      "text/plain": [
       "<Figure size 432x288 with 1 Axes>"
      ]
     },
     "metadata": {
      "needs_background": "light"
     },
     "output_type": "display_data"
    },
    {
     "name": "stdout",
     "output_type": "stream",
     "text": [
      "AUC: 0.8080845771144279\n"
     ]
    }
   ],
   "source": [
    "#ROC_AUC_Curve:-\n",
    "plt.figure()\n",
    "false_positive_rate_nb,recall_nb,thresholds_nb=roc_curve(test['target'], NB_predictions)\n",
    "roc_auc_nb=auc(false_positive_rate_nb,recall_nb)\n",
    "plt.title('Reciver Operating Characteristics(ROC) for Naive Bayes')\n",
    "plt.plot(false_positive_rate_nb,recall_nb,'b',label='ROC(area=%0.3f)' %roc_auc_nb)\n",
    "plt.legend()\n",
    "plt.plot([0,1],[0,1],'r--')\n",
    "plt.xlim([0.0,1.0])\n",
    "plt.ylim([0.0,1.0])\n",
    "plt.ylabel('Recall(True Positive Rate)')\n",
    "plt.xlabel('False Positive Rate')\n",
    "plt.show()\n",
    "print('AUC:',roc_auc_nb)"
   ]
  },
  {
   "cell_type": "code",
   "execution_count": 132,
   "metadata": {},
   "outputs": [
    {
     "name": "stdout",
     "output_type": "stream",
     "text": [
      "              precision    recall  f1-score   support\n",
      "\n",
      "           0       0.81      0.80      0.81      4020\n",
      "           1       0.80      0.81      0.81      4020\n",
      "\n",
      "    accuracy                           0.81      8040\n",
      "   macro avg       0.81      0.81      0.81      8040\n",
      "weighted avg       0.81      0.81      0.81      8040\n",
      "\n"
     ]
    }
   ],
   "source": [
    "#Classification report:-\n",
    "classification_scores_nb=classification_report(test['target'], NB_predictions)\n",
    "print(classification_scores_nb)"
   ]
  },
  {
   "cell_type": "markdown",
   "metadata": {},
   "source": [
    "* Generating Output file for TEST dataset using Naive Bayes"
   ]
  },
  {
   "cell_type": "code",
   "execution_count": 133,
   "metadata": {},
   "outputs": [],
   "source": [
    "# Generatin output for our test dataset provided\n",
    "df_test['target_pred_NB'] = NB_model.predict(df_test.iloc[:,1:173])"
   ]
  },
  {
   "cell_type": "code",
   "execution_count": 134,
   "metadata": {},
   "outputs": [
    {
     "data": {
      "text/plain": [
       "0    150290\n",
       "1     49710\n",
       "Name: target_pred_NB, dtype: int64"
      ]
     },
     "execution_count": 134,
     "metadata": {},
     "output_type": "execute_result"
    }
   ],
   "source": [
    "df_test['target_pred_NB'].value_counts()"
   ]
  },
  {
   "cell_type": "code",
   "execution_count": 135,
   "metadata": {},
   "outputs": [],
   "source": [
    "#Selecting required columns for output file generation\n",
    "NB_Output = df_test['ID_code']\n",
    "NB_Output = pd.DataFrame(NB_Output)\n",
    "NB_Output = NB_Output.join(df_test['target_pred_NB'])"
   ]
  },
  {
   "cell_type": "code",
   "execution_count": 136,
   "metadata": {},
   "outputs": [],
   "source": [
    "#Creating output file\n",
    "NB_Output.to_csv(\"Naive_Bayes_Output_Python.csv\", header = True, index = False)"
   ]
  },
  {
   "cell_type": "code",
   "execution_count": null,
   "metadata": {},
   "outputs": [],
   "source": []
  }
 ],
 "metadata": {
  "kernelspec": {
   "display_name": "Python 3",
   "language": "python",
   "name": "python3"
  },
  "language_info": {
   "codemirror_mode": {
    "name": "ipython",
    "version": 3
   },
   "file_extension": ".py",
   "mimetype": "text/x-python",
   "name": "python",
   "nbconvert_exporter": "python",
   "pygments_lexer": "ipython3",
   "version": "3.7.4"
  }
 },
 "nbformat": 4,
 "nbformat_minor": 2
}
